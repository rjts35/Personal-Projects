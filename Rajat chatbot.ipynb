{
 "cells": [
  {
   "cell_type": "code",
   "execution_count": 10,
   "metadata": {},
   "outputs": [],
   "source": [
    "from newspaper import Article\n",
    "import random\n",
    "import string\n",
    "import nltk\n",
    "from sklearn.feature_extraction.text import CountVectorizer\n",
    "from sklearn.metrics.pairwise import cosine_similarity\n",
    "import numpy as np\n",
    "import warnings\n",
    "warnings.filterwarnings('ignore')"
   ]
  },
  {
   "cell_type": "code",
   "execution_count": 11,
   "metadata": {},
   "outputs": [
    {
     "data": {
      "text/plain": [
       "True"
      ]
     },
     "execution_count": 11,
     "metadata": {},
     "output_type": "execute_result"
    }
   ],
   "source": [
    "#Download the punct package\n",
    "\n",
    "nltk.download('punkt', quiet = True)"
   ]
  },
  {
   "cell_type": "code",
   "execution_count": 25,
   "metadata": {},
   "outputs": [],
   "source": [
    "about_rajat = open(r'C:\\Users\\asus\\Desktop\\stats\\about_rajat.txt', \"r\")\n",
    "about = about_rajat.read()"
   ]
  },
  {
   "cell_type": "code",
   "execution_count": 26,
   "metadata": {},
   "outputs": [
    {
     "data": {
      "text/plain": [
       "['I like maths, sociology, videogames, and my hobbies include reading, playing guitar and counter strike.\\n',\n",
       " 'About me, I am a data science and analytics enthusiast, with a knack for problem solving, and interests in data visualization, supervised/ unsupervised machine learning, natural language processing and sports data analysis. Looking for roles in business analysis/ data science.\\n',\n",
       " 'My skills/ things I know about are: SQL\\nPython\\nSupervised/ Unsupervised machine\\nlearning\\nPython dashboards (Dash)\\nNatural Language Processing\\nAnaconda\\nPower BI\\nTableau\\nMS Excel\\nWeb scraping with python\\nHTML\\nCSS\\nJavaScript\\nGithub\\n',\n",
       " 'Education: I studied Chemical Engineering at Indian Institute of Technology Roorkee.',\n",
       " ' Study: Chemical Engineering, IITR',\n",
       " ' My contact information is: \\nPhone number - 7060946131 \\nEmail - rjts35@gmail.com\\nLinkedIn - www.linkedin.com/in/rajatsingh-che\\n',\n",
       " 'My projects,\\nI have made this chatbot you are using. Other than this, I have done- \\n*Titanic survival prediction\\nKaggle dataset - Supervised Learning\\n*Sentiment analysis\\nAnalytics Vidhya contest dataset',\n",
       " ' NLP classification problem\\n*Cricket data analysis\\nCrickinfo scraped data',\n",
       " ' Power BI dashboard (https://tok2rajat.medium.com/career-scores-in-cricket-a-comparison-between-players-74876d35b204)\\n*SQL Hackerrank\\nGot the Gold badge on Hackerrank for SQL.\\n',\n",
       " 'Work history: \\nI have been working at Reliance Industries Limited as a field engineer for one and a half years. Before that, I was an intern there. \\nRecently, I had a data science/ Business analysis internship at the Sparks Group.\\n',\n",
       " ' Okay! Cool Cool Cool.\\n',\n",
       " 'My leadership positions include:\\nHead, Web Development Team\\nEvent coordinator - Thomso\\nSPOC Logistics, RIL Gala Night\\n\\n\\n']"
      ]
     },
     "execution_count": 26,
     "metadata": {},
     "output_type": "execute_result"
    }
   ],
   "source": [
    "about_list = about.split('|')\n",
    "about_list"
   ]
  },
  {
   "cell_type": "code",
   "execution_count": 18,
   "metadata": {},
   "outputs": [],
   "source": [
    "# A function to return a random response to a users greeting\n",
    "\n",
    "def greeting_response(text):\n",
    "    text = text.lower()\n",
    "    \n",
    "    # Bot greeting response list:\n",
    "    bot_greetings = ['Hi','Hey','Hello',\"What's up\",'Hey champ!', 'Howdy']\n",
    "    #user greetings\n",
    "    user_greetings = ['hi','hey','hello',\"What's up?\" , 'howdy']\n",
    "    \n",
    "    for word in text.split():\n",
    "        if word in user_greetings:\n",
    "            return random.choice(bot_greetings)"
   ]
  },
  {
   "cell_type": "code",
   "execution_count": 15,
   "metadata": {},
   "outputs": [],
   "source": [
    "def index_sort(list_var):\n",
    "    length = len(list_var)\n",
    "    list_index = list(range(0,length))\n",
    "    \n",
    "    x = list_var\n",
    "    for i in range(length):\n",
    "        for j in range(length):\n",
    "            if x[list_index[i]] > x[list_index[j]]:\n",
    "                #swap them\n",
    "                temp = list_index[i]\n",
    "                list_index[i] = list_index[j]\n",
    "                list_index[j] = temp\n",
    "    return list_index\n",
    "                "
   ]
  },
  {
   "cell_type": "code",
   "execution_count": 16,
   "metadata": {},
   "outputs": [],
   "source": [
    "#Create a bot response\n",
    "def bot_response(user_input):\n",
    "    user_input = user_input.lower()\n",
    "    about_list.append(user_input)\n",
    "    bot_response = ''\n",
    "    cm = CountVectorizer().fit_transform(about_list)\n",
    "    similarity_scores = cosine_similarity(cm[-1], cm)\n",
    "    similarity_scores_list = similarity_scores.flatten()\n",
    "    index = index_sort(similarity_scores_list)\n",
    "    index = index[1:]\n",
    "    response_flag = 0\n",
    "    \n",
    "    j = 0\n",
    "    for i in range(len(index)):\n",
    "        if similarity_scores_list[index[i]] >0.0:\n",
    "            bot_response = bot_response + ' ' + about_list[index[i]]\n",
    "            response_flag = 1\n",
    "            j = j+1\n",
    "        if j > 0:\n",
    "            break;\n",
    "        \n",
    "    if response_flag == 0:\n",
    "        bot_response = bot_response+ ' ' + 'Ask something relevant.'\n",
    "    \n",
    "    about_list.remove(user_input)\n",
    "    \n",
    "    return(bot_response)"
   ]
  },
  {
   "cell_type": "code",
   "execution_count": 28,
   "metadata": {},
   "outputs": [
    {
     "name": "stdout",
     "output_type": "stream",
     "text": [
      "Rajat: Hey, ask me anything. To exit, type bye.\n",
      "hey\n",
      "Rajat: Hey champ!\n",
      "Tell me about yourself\n",
      "Rajat:  About me, I am a data science and analytics enthusiast, with a knack for problem solving, and interests in data visualization, supervised/ unsupervised machine learning, natural language processing and sports data analysis. Looking for roles in business analysis/ data science.\n",
      "\n",
      "What are your skills?\n",
      "Rajat:  My skills/ things I know about are: SQL\n",
      "Python\n",
      "Supervised/ Unsupervised machine\n",
      "learning\n",
      "Python dashboards (Dash)\n",
      "Natural Language Processing\n",
      "Anaconda\n",
      "Power BI\n",
      "Tableau\n",
      "MS Excel\n",
      "Web scraping with python\n",
      "HTML\n",
      "CSS\n",
      "JavaScript\n",
      "Github\n",
      "\n",
      "Which projects have you worked on?\n",
      "Rajat:  My projects,\n",
      "I have made this chatbot you are using. Other than this, I have done- \n",
      "*Titanic survival prediction\n",
      "Kaggle dataset - Supervised Learning\n",
      "*Sentiment analysis\n",
      "Analytics Vidhya contest dataset\n",
      "What are your hobbies?\n",
      "Rajat:  I like maths, sociology, videogames, and my hobbies include reading, playing guitar and counter strike.\n",
      "\n",
      "Work history?\n",
      "Rajat:  Work history: \n",
      "I have been working at Reliance Industries Limited as a field engineer for one and a half years. Before that, I was an intern there. \n",
      "Recently, I had a data science/ Business analysis internship at the Sparks Group.\n",
      "\n",
      "Okay\n",
      "Rajat:   Okay! Cool Cool Cool.\n",
      "\n",
      "Where can we contact you?\n",
      "Rajat:   My contact information is: \n",
      "Phone number - 7060946131 \n",
      "Email - rjts35@gmail.com\n",
      "LinkedIn - www.linkedin.com/in/rajatsingh-che\n",
      "\n",
      "Bye\n",
      "Rajat: See you later.\n"
     ]
    }
   ],
   "source": [
    "#start the chat:\n",
    "\n",
    "print(\"Rajat: Hey, ask me anything. To exit, type bye.\")\n",
    "\n",
    "exit_list = ['exit','bye','quit','break']\n",
    "\n",
    "while(True):\n",
    "    user_input = input()\n",
    "    if user_input.lower() in exit_list:\n",
    "        print(\"Rajat: See you later.\")\n",
    "        break\n",
    "    else:\n",
    "        if greeting_response(user_input) != None:\n",
    "            print('Rajat: '+ greeting_response(user_input))\n",
    "        else:\n",
    "            print('Rajat: '+ bot_response(user_input))"
   ]
  },
  {
   "cell_type": "code",
   "execution_count": null,
   "metadata": {},
   "outputs": [],
   "source": []
  }
 ],
 "metadata": {
  "kernelspec": {
   "display_name": "Python 3",
   "language": "python",
   "name": "python3"
  },
  "language_info": {
   "codemirror_mode": {
    "name": "ipython",
    "version": 3
   },
   "file_extension": ".py",
   "mimetype": "text/x-python",
   "name": "python",
   "nbconvert_exporter": "python",
   "pygments_lexer": "ipython3",
   "version": "3.7.6"
  }
 },
 "nbformat": 4,
 "nbformat_minor": 4
}
